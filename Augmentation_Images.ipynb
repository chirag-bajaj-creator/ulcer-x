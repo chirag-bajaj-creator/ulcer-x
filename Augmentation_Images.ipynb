{
 "cells": [
  {
   "cell_type": "code",
   "execution_count": 13,
   "id": "55d6d164-bd5b-4eee-836e-6813d3d799c1",
   "metadata": {
    "scrolled": true
   },
   "outputs": [
    {
     "name": "stdout",
     "output_type": "stream",
     "text": [
      "Collecting albumentations\n",
      "  Using cached albumentations-2.0.7-py3-none-any.whl.metadata (43 kB)\n",
      "Requirement already satisfied: numpy>=1.24.4 in c:\\users\\chirag bajaj\\anaconda3\\lib\\site-packages (from albumentations) (1.26.4)\n",
      "Requirement already satisfied: scipy>=1.10.0 in c:\\users\\chirag bajaj\\anaconda3\\lib\\site-packages (from albumentations) (1.13.1)\n",
      "Requirement already satisfied: PyYAML in c:\\users\\chirag bajaj\\anaconda3\\lib\\site-packages (from albumentations) (6.0.1)\n",
      "Requirement already satisfied: pydantic>=2.9.2 in c:\\users\\chirag bajaj\\anaconda3\\lib\\site-packages (from albumentations) (2.11.3)\n",
      "Collecting albucore==0.0.24 (from albumentations)\n",
      "  Using cached albucore-0.0.24-py3-none-any.whl.metadata (5.3 kB)\n",
      "Collecting opencv-python-headless>=4.9.0.80 (from albumentations)\n",
      "  Using cached opencv_python_headless-4.11.0.86-cp37-abi3-win_amd64.whl.metadata (20 kB)\n",
      "Requirement already satisfied: stringzilla>=3.10.4 in c:\\users\\chirag bajaj\\anaconda3\\lib\\site-packages (from albucore==0.0.24->albumentations) (3.12.5)\n",
      "Requirement already satisfied: simsimd>=5.9.2 in c:\\users\\chirag bajaj\\anaconda3\\lib\\site-packages (from albucore==0.0.24->albumentations) (6.2.1)\n",
      "Requirement already satisfied: annotated-types>=0.6.0 in c:\\users\\chirag bajaj\\anaconda3\\lib\\site-packages (from pydantic>=2.9.2->albumentations) (0.7.0)\n",
      "Requirement already satisfied: pydantic-core==2.33.1 in c:\\users\\chirag bajaj\\anaconda3\\lib\\site-packages (from pydantic>=2.9.2->albumentations) (2.33.1)\n",
      "Requirement already satisfied: typing-extensions>=4.12.2 in c:\\users\\chirag bajaj\\anaconda3\\lib\\site-packages (from pydantic>=2.9.2->albumentations) (4.13.2)\n",
      "Requirement already satisfied: typing-inspection>=0.4.0 in c:\\users\\chirag bajaj\\anaconda3\\lib\\site-packages (from pydantic>=2.9.2->albumentations) (0.4.0)\n",
      "Using cached albumentations-2.0.7-py3-none-any.whl (367 kB)\n",
      "Using cached albucore-0.0.24-py3-none-any.whl (15 kB)\n",
      "Using cached opencv_python_headless-4.11.0.86-cp37-abi3-win_amd64.whl (39.4 MB)\n",
      "Installing collected packages: opencv-python-headless, albucore, albumentations\n",
      "\n",
      "   ---------------------------------------- 0/3 [opencv-python-headless]\n",
      "   ---------------------------------------- 0/3 [opencv-python-headless]\n",
      "   ---------------------------------------- 0/3 [opencv-python-headless]\n",
      "   ---------------------------------------- 0/3 [opencv-python-headless]\n",
      "   ---------------------------------------- 0/3 [opencv-python-headless]\n",
      "   ---------------------------------------- 0/3 [opencv-python-headless]\n",
      "   ---------------------------------------- 0/3 [opencv-python-headless]\n",
      "   ---------------------------------------- 0/3 [opencv-python-headless]\n",
      "   ---------------------------------------- 0/3 [opencv-python-headless]\n",
      "   ---------------------------------------- 0/3 [opencv-python-headless]\n",
      "   -------------------------- ------------- 2/3 [albumentations]\n",
      "   -------------------------- ------------- 2/3 [albumentations]\n",
      "   -------------------------- ------------- 2/3 [albumentations]\n",
      "   -------------------------- ------------- 2/3 [albumentations]\n",
      "   -------------------------- ------------- 2/3 [albumentations]\n",
      "   -------------------------- ------------- 2/3 [albumentations]\n",
      "   -------------------------- ------------- 2/3 [albumentations]\n",
      "   -------------------------- ------------- 2/3 [albumentations]\n",
      "   ---------------------------------------- 3/3 [albumentations]\n",
      "\n",
      "Successfully installed albucore-0.0.24 albumentations-2.0.7 opencv-python-headless-4.11.0.86\n"
     ]
    },
    {
     "name": "stderr",
     "output_type": "stream",
     "text": [
      "WARNING: Ignoring invalid distribution ~angchain-community (C:\\Users\\CHIRAG BAJAJ\\anaconda3\\Lib\\site-packages)\n",
      "WARNING: Ignoring invalid distribution ~angchain-core (C:\\Users\\CHIRAG BAJAJ\\anaconda3\\Lib\\site-packages)\n",
      "WARNING: Ignoring invalid distribution ~angchain-community (C:\\Users\\CHIRAG BAJAJ\\anaconda3\\Lib\\site-packages)\n",
      "WARNING: Ignoring invalid distribution ~angchain-core (C:\\Users\\CHIRAG BAJAJ\\anaconda3\\Lib\\site-packages)\n"
     ]
    }
   ],
   "source": [
    "!pip install --user albumentations\n"
   ]
  },
  {
   "cell_type": "code",
   "execution_count": 7,
   "id": "74a1767b-6b79-4419-b9f6-973f2e0c5136",
   "metadata": {},
   "outputs": [
    {
     "name": "stdout",
     "output_type": "stream",
     "text": [
      "Requirement already satisfied: pip in c:\\users\\chirag bajaj\\anaconda3\\lib\\site-packages (25.0.1)\n",
      "Collecting pip\n",
      "  Downloading pip-25.1.1-py3-none-any.whl.metadata (3.6 kB)\n",
      "Downloading pip-25.1.1-py3-none-any.whl (1.8 MB)\n",
      "   ---------------------------------------- 0.0/1.8 MB ? eta -:--:--\n",
      "   ---------------------- ----------------- 1.0/1.8 MB 6.3 MB/s eta 0:00:01\n",
      "   ---------------------------------------- 1.8/1.8 MB 4.8 MB/s eta 0:00:00\n",
      "Installing collected packages: pip\n",
      "  Attempting uninstall: pip\n",
      "    Found existing installation: pip 25.0.1\n",
      "    Uninstalling pip-25.0.1:\n",
      "      Successfully uninstalled pip-25.0.1\n",
      "Successfully installed pip-25.1.1\n"
     ]
    },
    {
     "name": "stderr",
     "output_type": "stream",
     "text": [
      "WARNING: Ignoring invalid distribution ~angchain-community (C:\\Users\\CHIRAG BAJAJ\\anaconda3\\Lib\\site-packages)\n",
      "WARNING: Ignoring invalid distribution ~angchain-core (C:\\Users\\CHIRAG BAJAJ\\anaconda3\\Lib\\site-packages)\n",
      "WARNING: Ignoring invalid distribution ~angchain-community (C:\\Users\\CHIRAG BAJAJ\\anaconda3\\Lib\\site-packages)\n",
      "WARNING: Ignoring invalid distribution ~angchain-core (C:\\Users\\CHIRAG BAJAJ\\anaconda3\\Lib\\site-packages)\n",
      "WARNING: Ignoring invalid distribution ~angchain-community (C:\\Users\\CHIRAG BAJAJ\\anaconda3\\Lib\\site-packages)\n",
      "WARNING: Ignoring invalid distribution ~angchain-core (C:\\Users\\CHIRAG BAJAJ\\anaconda3\\Lib\\site-packages)\n"
     ]
    }
   ],
   "source": [
    "!python -m pip install --upgrade pip\n"
   ]
  },
  {
   "cell_type": "code",
   "execution_count": 15,
   "id": "a61e7e28-2fb6-4c10-9e8f-ca3909d63293",
   "metadata": {},
   "outputs": [
    {
     "name": "stderr",
     "output_type": "stream",
     "text": [
      "C:\\Users\\CHIRAG BAJAJ\\anaconda3\\Lib\\site-packages\\torch\\utils\\_pytree.py:185: FutureWarning: optree is installed but the version is too old to support PyTorch Dynamo in C++ pytree. C++ pytree support is disabled. Please consider upgrading optree using `python3 -m pip install --upgrade 'optree>=0.13.0'`.\n",
      "  warnings.warn(\n"
     ]
    },
    {
     "name": "stdout",
     "output_type": "stream",
     "text": [
      "✅ Done augmenting & saving Grade_2 and Grade_5\n",
      "📦 Zipped dataset ready: graded_dataset_augmented.zip\n"
     ]
    }
   ],
   "source": [
    "# === STEP 1: Install Albumentations (only once)\n",
    "# !pip install -q albumentations  # Uncomment if albumentations not installed\n",
    "\n",
    "# === STEP 2: Import Libraries\n",
    "import os\n",
    "import cv2\n",
    "import numpy as np\n",
    "from sklearn.model_selection import train_test_split\n",
    "from albumentations import Compose, HorizontalFlip, Rotate, RandomBrightnessContrast\n",
    "import zipfile\n",
    "\n",
    "# === STEP 3: CONFIG for Jupyter\n",
    "ORIG_BASE = 'graded_dataset/train'               # 👈 Local dataset path\n",
    "TARGET_BASE = 'graded_dataset_augmented'         # Output folder for augmented + split data\n",
    "GRADES = ['Grade_2', 'Grade_5']                   # Grades to augment\n",
    "AUG_PER_IMAGE = 3                                 # How many augmentations per image\n",
    "SPLIT_RATIO = [0.7, 0.15, 0.15]                   # Train/Val/Test split\n",
    "\n",
    "augment = Compose([\n",
    "    HorizontalFlip(p=0.5),\n",
    "    Rotate(limit=15, p=0.7),\n",
    "    RandomBrightnessContrast(p=0.4)\n",
    "])\n",
    "\n",
    "# === STEP 4: Load + Augment Images\n",
    "def load_and_augment_images(orig_dir, augment_count=3):\n",
    "    all_images = []\n",
    "    for fname in os.listdir(orig_dir):\n",
    "        if fname.lower().endswith(('.jpg', '.png', '.jpeg')):\n",
    "            img_path = os.path.join(orig_dir, fname)\n",
    "            img = cv2.imread(img_path)\n",
    "            if img is not None:\n",
    "                all_images.append(img)\n",
    "                for i in range(augment_count):\n",
    "                    aug_img = augment(image=img)['image']\n",
    "                    all_images.append(aug_img)\n",
    "    return all_images\n",
    "\n",
    "# === STEP 5: Save to train/val/test folders\n",
    "def save_images_to_split(split_names, base_save_path, grade_name):\n",
    "    for split, imgs in split_names.items():\n",
    "        save_path = os.path.join(base_save_path, split, grade_name)\n",
    "        os.makedirs(save_path, exist_ok=True)\n",
    "        for i, img in enumerate(imgs):\n",
    "            save_file = os.path.join(save_path, f\"{grade_name}_{split}_{i}.jpg\")\n",
    "            cv2.imwrite(save_file, img)\n",
    "\n",
    "# === STEP 6: Process Each Grade\n",
    "for grade in GRADES:\n",
    "    orig_path = os.path.join(ORIG_BASE, grade)\n",
    "    all_imgs = load_and_augment_images(orig_path, AUG_PER_IMAGE)\n",
    "    \n",
    "    train_imgs, temp_imgs = train_test_split(all_imgs, test_size=1 - SPLIT_RATIO[0], random_state=42)\n",
    "    val_imgs, test_imgs = train_test_split(temp_imgs, test_size=SPLIT_RATIO[2]/(SPLIT_RATIO[1]+SPLIT_RATIO[2]), random_state=42)\n",
    "\n",
    "    save_images_to_split(\n",
    "        split_names={'train': train_imgs, 'val': val_imgs, 'test': test_imgs},\n",
    "        base_save_path=TARGET_BASE,\n",
    "        grade_name=grade\n",
    "    )\n",
    "\n",
    "print(\"✅ Done augmenting & saving Grade_2 and Grade_5\")\n",
    "\n",
    "# === STEP 7: ZIP Folder\n",
    "zip_path = 'graded_dataset_augmented.zip'\n",
    "\n",
    "with zipfile.ZipFile(zip_path, 'w') as zipf:\n",
    "    for root, _, files in os.walk(TARGET_BASE):\n",
    "        for file in files:\n",
    "            full_path = os.path.join(root, file)\n",
    "            zipf.write(full_path, os.path.relpath(full_path, TARGET_BASE))\n",
    "\n",
    "print(f\"📦 Zipped dataset ready: {zip_path}\")\n"
   ]
  },
  {
   "cell_type": "code",
   "execution_count": null,
   "id": "a9b20553-1d9b-4fb6-99cf-722931fef7c7",
   "metadata": {},
   "outputs": [],
   "source": []
  }
 ],
 "metadata": {
  "kernelspec": {
   "display_name": "Python 3 (ipykernel)",
   "language": "python",
   "name": "python3"
  },
  "language_info": {
   "codemirror_mode": {
    "name": "ipython",
    "version": 3
   },
   "file_extension": ".py",
   "mimetype": "text/x-python",
   "name": "python",
   "nbconvert_exporter": "python",
   "pygments_lexer": "ipython3",
   "version": "3.12.4"
  }
 },
 "nbformat": 4,
 "nbformat_minor": 5
}
